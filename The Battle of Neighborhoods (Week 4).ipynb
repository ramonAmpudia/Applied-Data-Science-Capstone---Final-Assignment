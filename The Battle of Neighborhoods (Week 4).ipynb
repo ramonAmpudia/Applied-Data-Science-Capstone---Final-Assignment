{
 "cells": [
  {
   "cell_type": "markdown",
   "id": "12256e68-4595-496a-9980-8054f6c3669f",
   "metadata": {},
   "source": [
    "# __The Battle of Neighborhoods__\n",
    "## Week 4: the scent of papyrus\n",
    "### July the 23rd of 2020"
   ]
  },
  {
   "cell_type": "markdown",
   "id": "add263a7-5f54-444b-82d4-920f8a70e499",
   "metadata": {},
   "source": [
    "#### Angel Ramón Ampudia Barbudo, July the 23rd of 2020."
   ]
  },
  {
   "cell_type": "markdown",
   "id": "4aef984a-c316-4bfd-b1a4-e8b52e59b35d",
   "metadata": {},
   "source": [
    "### __Introduction.__"
   ]
  },
  {
   "cell_type": "markdown",
   "id": "9f130e83-1a79-4648-a0ac-7eeacc5da431",
   "metadata": {},
   "source": [
    "<div style=\"text-align: justify\"> Yesterday an old man came to our headquarters in Seville, this man that introduced himself as a nostalgic for paper, knew of our company in a conversation with a dear friend editor and came to our main instalations looking for help and some good advises.</div>"
   ]
  },
  {
   "cell_type": "markdown",
   "id": "2d178c23-850c-41d5-a00f-9eaf41ebcaa3",
   "metadata": {},
   "source": [
    "<div style=\"text-align: justify\"> His narration was clear, with the current economic situation of the country, one of his bookstores in Barcelona was suffering problems to subsist and maybe flowing with the synergy of the moment, as he literally remarked, he was considering starting a new adventure in Madrid.</div>"
   ]
  },
  {
   "cell_type": "markdown",
   "id": "0c01fe21-8eb9-4e42-8395-5b9dab060b9c",
   "metadata": {},
   "source": [
    "### __1.- Background.__"
   ]
  },
  {
   "cell_type": "markdown",
   "id": "1c4c94a9-a567-4b4e-ac98-311cfb1b9cfc",
   "metadata": {},
   "source": [
    "<div style=\"text-align: justify\"> Generalizing, these are not good years for business and business with physical books are not in a much healthier situation.</div>"
   ]
  },
  {
   "cell_type": "markdown",
   "id": "7d46585a-2b09-4ea1-a628-34c5d558720c",
   "metadata": {},
   "source": [
    "<div style=\"text-align: justify\"> In 2017 the publishing house “Europa Press” indicates in an article that Madrid was overtaking other cities like London and Paris with a number of 497 active bookstores, since that moment the panorama has turned just the other way around.</div>"
   ]
  },
  {
   "cell_type": "markdown",
   "id": "0b67db05-0395-45aa-a4a1-9fff74c2b8c1",
   "metadata": {},
   "source": [
    "<div style=\"text-align: justify\"> The daily newspaper “El Mundo” revealed last January that Madrid currently has in his territory around 100 bookstores, a cypher that can be translated into 400 shops disappearing since 2017.</div>"
   ]
  },
  {
   "cell_type": "markdown",
   "id": "e18e0be8-edee-49fd-baf5-df53a3c8632d",
   "metadata": {},
   "source": [
    "<div style=\"text-align: justify\"> In many ways there is a clear statement underlying: the crisis not only affects stores, it is also causing economic pain to the editors, the publishers, the printers and all the components of a industry that surrounds and mainly relies on the traditional concept of book.</div>"
   ]
  },
  {
   "cell_type": "markdown",
   "id": "91db8b4c-8e20-4bb3-823f-e798d8a98a6c",
   "metadata": {},
   "source": [
    "<div style=\"text-align: justify\"> And the bookstore is the front line of the confrontation, but the battle is evolving in the offices of the big internet companies and in the courts with their legal representants.</div>"
   ]
  },
  {
   "cell_type": "markdown",
   "id": "e28445fd-0d9d-40b0-8e4c-b872db467723",
   "metadata": {},
   "source": [
    "##### __The time to reinvent ourselves has come, is time to raise the bet.__"
   ]
  },
  {
   "cell_type": "markdown",
   "id": "9a32452d-58b2-440d-a802-1f5f9b68ac7f",
   "metadata": {},
   "source": [
    "<div style=\"text-align: justify\"> Most of the bookstores are out of date, that is pretty obvious, an added value should be given to the customers and to the people that buy books and support the business.</div>"
   ]
  },
  {
   "cell_type": "markdown",
   "id": "c4980f57-2012-47e7-ad96-6aa23c513722",
   "metadata": {},
   "source": [
    "<div style=\"text-align: justify\"> Readers are cooperating and they don’t want shops to disappear, that’s a fact, and maybe in this scenario the cover letter of our loved client looks meaningful: the readers are \"nostalgic for paper\".</div>"
   ]
  },
  {
   "cell_type": "markdown",
   "id": "3ca2f612-4318-41a8-adeb-5fd66f4a5cb7",
   "metadata": {},
   "source": [
    "<div style=\"text-align: justify\"> And common readers find succulent the fidelity discounts or the additional material added as a gift, the special versions of a books are widely well considered, and readers as collectors don’t hesitate to buy different editions of the same literary work. </div>"
   ]
  },
  {
   "cell_type": "markdown",
   "id": "6ffe5106-29f4-4251-805a-0302b75032ec",
   "metadata": {},
   "source": [
    "<div style=\"text-align: justify\"> It’s time for creativity."
   ]
  },
  {
   "cell_type": "markdown",
   "id": "bfcc00fb-d56e-4c84-868a-19f1c91e2075",
   "metadata": {},
   "source": [
    "##### __The readers are “nostalgic for paper”.__"
   ]
  },
  {
   "cell_type": "markdown",
   "id": "a5fe2076-e6ac-4561-8573-66156cf8d4cb",
   "metadata": {},
   "source": [
    "<div style=\"text-align: justify\"> \"Once a reader is born it lives as a reader all its entire life, then the books turn into a leitmotiv, and into the greatest common divisor of its life\". </div>"
   ]
  },
  {
   "cell_type": "markdown",
   "id": "6876d19f-2d10-4214-a8c4-b747b61bddfe",
   "metadata": {},
   "source": [
    "<div style=\"text-align: justify\"> Far from this idealistic concept, the science, and being more accurate, the statistic, puts our feet on a more solid terrain: there are ages and ages for reading. </div>"
   ]
  },
  {
   "cell_type": "markdown",
   "id": "d7bd5e55-5d81-4180-b875-f54106c99afc",
   "metadata": {},
   "source": [
    "##### __Culture attracts culture.__"
   ]
  },
  {
   "cell_type": "markdown",
   "id": "a6b7665b-d023-4b4f-bda4-914b29a201b6",
   "metadata": {},
   "source": [
    "<div style=\"text-align: justify\"> Bookstores develop in a faster manner in areas where the presence of culture is notorious. </div>"
   ]
  },
  {
   "cell_type": "markdown",
   "id": "8a6477fb-7dcd-4e8d-94a0-cd0caecc803d",
   "metadata": {},
   "source": [
    "<div style=\"text-align: justify\"> The proximity to schools, colleges, universities and other types of centers of study pave the way economically to bookstores, students need books and that is good for bookstores.</div>"
   ]
  },
  {
   "cell_type": "markdown",
   "id": "60fe8bce-1cb6-44b3-839f-395d00bc153d",
   "metadata": {},
   "source": [
    "##### __Free is better than cheap.__"
   ]
  },
  {
   "cell_type": "markdown",
   "id": "1dc6110a-e6c5-4ff6-9b04-6025a8ee5328",
   "metadata": {},
   "source": [
    "<div style=\"text-align: justify\"> In Spain books are free and books are available to anybody with an identification card or a passport, even everybody can carry the book home using the loan system. </div>"
   ]
  },
  {
   "cell_type": "markdown",
   "id": "22096640-4d77-49d4-a8d9-8d4d75c3303b",
   "metadata": {},
   "source": [
    "<div style=\"text-align: justify\"> Public libraries are almost everywhere, most of the neighborhoods in Madrid have one. </div>"
   ]
  },
  {
   "cell_type": "markdown",
   "id": "5b82f5c8-62ab-4fda-863d-64fc7a2611ef",
   "metadata": {},
   "source": [
    "### __2.- Datasets used for the study.__"
   ]
  },
  {
   "cell_type": "markdown",
   "id": "53b3c999-5ef9-4a4a-b7b5-807710e15f92",
   "metadata": {},
   "source": [
    "<div style=\"text-align: justify\"> The information used to construct this analysis are contained in four datasets: </div>"
   ]
  },
  {
   "cell_type": "markdown",
   "id": "1a3508ad-86c9-4899-8fcf-98477053bef0",
   "metadata": {},
   "source": [
    "##### __1. List of Boroughs and Neighborhoods of Madrid and its Coordinates:__"
   ]
  },
  {
   "cell_type": "markdown",
   "id": "ac313f22-1adf-4bb1-9c4d-ccdff415bfcc",
   "metadata": {},
   "source": [
    "<div style=\"text-align: justify\"> This set of data will let us position each neighborhood of Madrid in the map . </div>"
   ]
  },
  {
   "cell_type": "markdown",
   "id": "06367cfd-658f-43e6-b083-51e520a055dc",
   "metadata": {},
   "source": [
    "##### __2. Population by Age and Neighborhood in Madrid:__"
   ]
  },
  {
   "cell_type": "markdown",
   "id": "3b06ca43-02db-40c9-8b6e-f106faaf93eb",
   "metadata": {},
   "source": [
    "<div style=\"text-align: justify\"> The population age will let us discriminate which neighborhood should be considered in the study and which not. </div>"
   ]
  },
  {
   "cell_type": "markdown",
   "id": "e6926a14-70cb-4402-9481-bb52ab5b1281",
   "metadata": {},
   "source": [
    "##### __3. List of Venues by Neighborhood in Madrid obtained from Foursquare:__"
   ]
  },
  {
   "cell_type": "markdown",
   "id": "42679a4a-5879-4149-9800-2d443a9c5349",
   "metadata": {},
   "source": [
    "<div style=\"text-align: justify\"> This information will let us stay close to the venues that foment economically the existence of bookshops. </div>"
   ]
  },
  {
   "cell_type": "markdown",
   "id": "7bce6ecb-d316-40d5-a146-b2dd5f9eb938",
   "metadata": {},
   "source": [
    "##### __4. List of Public Libraries by Neighborhood in Madrid:__"
   ]
  },
  {
   "cell_type": "markdown",
   "id": "89252599-2e28-4ee8-ab57-dd890ec948e8",
   "metadata": {},
   "source": [
    "<div style=\"text-align: justify\"> A public library near our local could have repercussions in the viability of our adventure. </div>"
   ]
  },
  {
   "cell_type": "markdown",
   "id": "2b69c64c-3310-4479-b043-790dcb24d88c",
   "metadata": {},
   "source": [
    "### __References.__"
   ]
  },
  {
   "cell_type": "markdown",
   "id": "94bed473-f15c-48f8-aecc-ba5425b6fd6f",
   "metadata": {},
   "source": [
    "##### Foursquare Official Site https://foursquare.com/"
   ]
  },
  {
   "cell_type": "markdown",
   "id": "16e164cc-e2fe-4ff8-abaf-4201fafdddac",
   "metadata": {},
   "source": [
    "##### \"Madrid, con 497, adelanta a Londres y París en número de librerías, sector sin bajas en la capital desde 2015\" (Europa Press) https://www.europapress.es/madrid/noticia-madrid-497-adelanta-londres-paris-numero-librerias-sector-bajas-capital-2015-20171130104341.html"
   ]
  },
  {
   "cell_type": "markdown",
   "id": "f64d5ca3-48fb-4639-8487-108de2af35c4",
   "metadata": {},
   "source": [
    "##### \"Así es el plan de rescate de las librerías de Madrid\" (El Mundo) https://www.elmundo.es/madrid/2020/01/20/5e249a8afc6c83af138b4666.html"
   ]
  },
  {
   "cell_type": "markdown",
   "id": "41fe9214-541d-4042-ae63-9a885901f0e5",
   "metadata": {},
   "source": [
    "##### \"Hábitos de Lectura y Compra de Libros en España| 2020\" (Federación de Gremios de Editores de España) https://www.federacioneditores.org/img/documentos/260221-notasprensa.pdf"
   ]
  },
  {
   "cell_type": "markdown",
   "id": "5c27e55d-5c0e-4d3f-ae49-6b5089ca6ebb",
   "metadata": {},
   "source": [
    "----------------------------------------------"
   ]
  },
  {
   "cell_type": "markdown",
   "id": "6cb0c00c-3553-46c1-80da-a83542a1d684",
   "metadata": {},
   "source": [
    "#### Thanks to Maison Crivelli for providing the perfume to that study. https://maisoncrivelli.com/en/product/papyrus-moleculaire/"
   ]
  },
  {
   "cell_type": "markdown",
   "id": "a669d20b-c582-4794-ba09-d8dd3c14065d",
   "metadata": {},
   "source": [
    "### ... and also thank your for you review!"
   ]
  },
  {
   "cell_type": "code",
   "execution_count": null,
   "id": "d0732b34-530c-417b-8ef9-b747dcafa250",
   "metadata": {},
   "outputs": [],
   "source": []
  }
 ],
 "metadata": {
  "kernelspec": {
   "display_name": "Python",
   "language": "python",
   "name": "conda-env-python-py"
  },
  "language_info": {
   "codemirror_mode": {
    "name": "ipython",
    "version": 3
   },
   "file_extension": ".py",
   "mimetype": "text/x-python",
   "name": "python",
   "nbconvert_exporter": "python",
   "pygments_lexer": "ipython3",
   "version": "3.6.13"
  }
 },
 "nbformat": 4,
 "nbformat_minor": 5
}
